{
 "cells": [
  {
   "cell_type": "code",
   "execution_count": 1,
   "metadata": {},
   "outputs": [],
   "source": [
    "import pandas as pd\n",
    "import matplotlib.pyplot as plt\n",
    "import seaborn as sns"
   ]
  },
  {
   "cell_type": "code",
   "execution_count": 2,
   "metadata": {},
   "outputs": [],
   "source": [
    "hotel_booking_data = pd.read_csv('Hotel Bookings.csv')"
   ]
  },
  {
   "cell_type": "code",
   "execution_count": 3,
   "metadata": {},
   "outputs": [],
   "source": [
    "# hotel_booking_data.to_excel(\"Hotel output.xlsx\", index=False)"
   ]
  },
  {
   "cell_type": "code",
   "execution_count": 4,
   "metadata": {},
   "outputs": [
    {
     "data": {
      "text/html": [
       "<div>\n",
       "<style scoped>\n",
       "    .dataframe tbody tr th:only-of-type {\n",
       "        vertical-align: middle;\n",
       "    }\n",
       "\n",
       "    .dataframe tbody tr th {\n",
       "        vertical-align: top;\n",
       "    }\n",
       "\n",
       "    .dataframe thead th {\n",
       "        text-align: right;\n",
       "    }\n",
       "</style>\n",
       "<table border=\"1\" class=\"dataframe\">\n",
       "  <thead>\n",
       "    <tr style=\"text-align: right;\">\n",
       "      <th></th>\n",
       "      <th>hotel</th>\n",
       "      <th>is_canceled</th>\n",
       "      <th>lead_time</th>\n",
       "      <th>arrival_date_year</th>\n",
       "      <th>arrival_date_month</th>\n",
       "      <th>arrival_date_week_number</th>\n",
       "      <th>arrival_date_day_of_month</th>\n",
       "      <th>stays_in_weekend_nights</th>\n",
       "      <th>stays_in_week_nights</th>\n",
       "      <th>adults</th>\n",
       "      <th>...</th>\n",
       "      <th>deposit_type</th>\n",
       "      <th>agent</th>\n",
       "      <th>company</th>\n",
       "      <th>days_in_waiting_list</th>\n",
       "      <th>customer_type</th>\n",
       "      <th>adr</th>\n",
       "      <th>required_car_parking_spaces</th>\n",
       "      <th>total_of_special_requests</th>\n",
       "      <th>reservation_status</th>\n",
       "      <th>reservation_status_date</th>\n",
       "    </tr>\n",
       "  </thead>\n",
       "  <tbody>\n",
       "    <tr>\n",
       "      <th>0</th>\n",
       "      <td>Resort Hotel</td>\n",
       "      <td>0</td>\n",
       "      <td>342</td>\n",
       "      <td>2015</td>\n",
       "      <td>July</td>\n",
       "      <td>27</td>\n",
       "      <td>1</td>\n",
       "      <td>0</td>\n",
       "      <td>0</td>\n",
       "      <td>2</td>\n",
       "      <td>...</td>\n",
       "      <td>No Deposit</td>\n",
       "      <td>NaN</td>\n",
       "      <td>NaN</td>\n",
       "      <td>0</td>\n",
       "      <td>Transient</td>\n",
       "      <td>0.0</td>\n",
       "      <td>0</td>\n",
       "      <td>0</td>\n",
       "      <td>Check-Out</td>\n",
       "      <td>2015-07-01</td>\n",
       "    </tr>\n",
       "    <tr>\n",
       "      <th>1</th>\n",
       "      <td>Resort Hotel</td>\n",
       "      <td>0</td>\n",
       "      <td>737</td>\n",
       "      <td>2015</td>\n",
       "      <td>July</td>\n",
       "      <td>27</td>\n",
       "      <td>1</td>\n",
       "      <td>0</td>\n",
       "      <td>0</td>\n",
       "      <td>2</td>\n",
       "      <td>...</td>\n",
       "      <td>No Deposit</td>\n",
       "      <td>NaN</td>\n",
       "      <td>NaN</td>\n",
       "      <td>0</td>\n",
       "      <td>Transient</td>\n",
       "      <td>0.0</td>\n",
       "      <td>0</td>\n",
       "      <td>0</td>\n",
       "      <td>Check-Out</td>\n",
       "      <td>2015-07-01</td>\n",
       "    </tr>\n",
       "    <tr>\n",
       "      <th>2</th>\n",
       "      <td>Resort Hotel</td>\n",
       "      <td>0</td>\n",
       "      <td>7</td>\n",
       "      <td>2015</td>\n",
       "      <td>July</td>\n",
       "      <td>27</td>\n",
       "      <td>1</td>\n",
       "      <td>0</td>\n",
       "      <td>1</td>\n",
       "      <td>1</td>\n",
       "      <td>...</td>\n",
       "      <td>No Deposit</td>\n",
       "      <td>NaN</td>\n",
       "      <td>NaN</td>\n",
       "      <td>0</td>\n",
       "      <td>Transient</td>\n",
       "      <td>75.0</td>\n",
       "      <td>0</td>\n",
       "      <td>0</td>\n",
       "      <td>Check-Out</td>\n",
       "      <td>2015-07-02</td>\n",
       "    </tr>\n",
       "    <tr>\n",
       "      <th>3</th>\n",
       "      <td>Resort Hotel</td>\n",
       "      <td>0</td>\n",
       "      <td>13</td>\n",
       "      <td>2015</td>\n",
       "      <td>July</td>\n",
       "      <td>27</td>\n",
       "      <td>1</td>\n",
       "      <td>0</td>\n",
       "      <td>1</td>\n",
       "      <td>1</td>\n",
       "      <td>...</td>\n",
       "      <td>No Deposit</td>\n",
       "      <td>304.0</td>\n",
       "      <td>NaN</td>\n",
       "      <td>0</td>\n",
       "      <td>Transient</td>\n",
       "      <td>75.0</td>\n",
       "      <td>0</td>\n",
       "      <td>0</td>\n",
       "      <td>Check-Out</td>\n",
       "      <td>2015-07-02</td>\n",
       "    </tr>\n",
       "    <tr>\n",
       "      <th>4</th>\n",
       "      <td>Resort Hotel</td>\n",
       "      <td>0</td>\n",
       "      <td>14</td>\n",
       "      <td>2015</td>\n",
       "      <td>July</td>\n",
       "      <td>27</td>\n",
       "      <td>1</td>\n",
       "      <td>0</td>\n",
       "      <td>2</td>\n",
       "      <td>2</td>\n",
       "      <td>...</td>\n",
       "      <td>No Deposit</td>\n",
       "      <td>240.0</td>\n",
       "      <td>NaN</td>\n",
       "      <td>0</td>\n",
       "      <td>Transient</td>\n",
       "      <td>98.0</td>\n",
       "      <td>0</td>\n",
       "      <td>1</td>\n",
       "      <td>Check-Out</td>\n",
       "      <td>2015-07-03</td>\n",
       "    </tr>\n",
       "  </tbody>\n",
       "</table>\n",
       "<p>5 rows × 32 columns</p>\n",
       "</div>"
      ],
      "text/plain": [
       "          hotel  is_canceled  lead_time  arrival_date_year arrival_date_month  \\\n",
       "0  Resort Hotel            0        342               2015               July   \n",
       "1  Resort Hotel            0        737               2015               July   \n",
       "2  Resort Hotel            0          7               2015               July   \n",
       "3  Resort Hotel            0         13               2015               July   \n",
       "4  Resort Hotel            0         14               2015               July   \n",
       "\n",
       "   arrival_date_week_number  arrival_date_day_of_month  \\\n",
       "0                        27                          1   \n",
       "1                        27                          1   \n",
       "2                        27                          1   \n",
       "3                        27                          1   \n",
       "4                        27                          1   \n",
       "\n",
       "   stays_in_weekend_nights  stays_in_week_nights  adults  ...  deposit_type  \\\n",
       "0                        0                     0       2  ...    No Deposit   \n",
       "1                        0                     0       2  ...    No Deposit   \n",
       "2                        0                     1       1  ...    No Deposit   \n",
       "3                        0                     1       1  ...    No Deposit   \n",
       "4                        0                     2       2  ...    No Deposit   \n",
       "\n",
       "   agent company days_in_waiting_list customer_type   adr  \\\n",
       "0    NaN     NaN                    0     Transient   0.0   \n",
       "1    NaN     NaN                    0     Transient   0.0   \n",
       "2    NaN     NaN                    0     Transient  75.0   \n",
       "3  304.0     NaN                    0     Transient  75.0   \n",
       "4  240.0     NaN                    0     Transient  98.0   \n",
       "\n",
       "   required_car_parking_spaces  total_of_special_requests  reservation_status  \\\n",
       "0                            0                          0           Check-Out   \n",
       "1                            0                          0           Check-Out   \n",
       "2                            0                          0           Check-Out   \n",
       "3                            0                          0           Check-Out   \n",
       "4                            0                          1           Check-Out   \n",
       "\n",
       "  reservation_status_date  \n",
       "0              2015-07-01  \n",
       "1              2015-07-01  \n",
       "2              2015-07-02  \n",
       "3              2015-07-02  \n",
       "4              2015-07-03  \n",
       "\n",
       "[5 rows x 32 columns]"
      ]
     },
     "execution_count": 4,
     "metadata": {},
     "output_type": "execute_result"
    }
   ],
   "source": [
    "hotel_booking_data.head()"
   ]
  },
  {
   "cell_type": "markdown",
   "metadata": {},
   "source": [
    "Have you ever wondered when the best time of year to book a \n",
    "hotel room is? <br> Or the optimal length of stay in order to get the best \n",
    "daily rate? <br>What if you wanted to predict whether or not a hotel \n",
    "was likely to receive a disproportionately high number of special \n",
    "requests? "
   ]
  },
  {
   "cell_type": "markdown",
   "metadata": {},
   "source": [
    "## Data Cleaning\n",
    "In the first step, we clean the dataset."
   ]
  },
  {
   "cell_type": "markdown",
   "metadata": {},
   "source": [
    "### Remove Duplicates"
   ]
  },
  {
   "cell_type": "markdown",
   "metadata": {},
   "source": [
    "There were some duplicate records, which we removed."
   ]
  },
  {
   "cell_type": "code",
   "execution_count": 5,
   "metadata": {},
   "outputs": [
    {
     "name": "stdout",
     "output_type": "stream",
     "text": [
      "31994\n",
      "(119390, 32)\n"
     ]
    }
   ],
   "source": [
    "print(hotel_booking_data.duplicated().sum())\n",
    "print(hotel_booking_data.shape)"
   ]
  },
  {
   "cell_type": "code",
   "execution_count": 6,
   "metadata": {},
   "outputs": [
    {
     "name": "stdout",
     "output_type": "stream",
     "text": [
      "(87396, 32)\n"
     ]
    }
   ],
   "source": [
    "hotel_booking_data = hotel_booking_data.drop_duplicates()\n",
    "print(hotel_booking_data.shape)"
   ]
  },
  {
   "cell_type": "code",
   "execution_count": 7,
   "metadata": {},
   "outputs": [
    {
     "name": "stdout",
     "output_type": "stream",
     "text": [
      "<class 'pandas.core.frame.DataFrame'>\n",
      "Index: 87396 entries, 0 to 119389\n",
      "Data columns (total 32 columns):\n",
      " #   Column                          Non-Null Count  Dtype  \n",
      "---  ------                          --------------  -----  \n",
      " 0   hotel                           87396 non-null  object \n",
      " 1   is_canceled                     87396 non-null  int64  \n",
      " 2   lead_time                       87396 non-null  int64  \n",
      " 3   arrival_date_year               87396 non-null  int64  \n",
      " 4   arrival_date_month              87396 non-null  object \n",
      " 5   arrival_date_week_number        87396 non-null  int64  \n",
      " 6   arrival_date_day_of_month       87396 non-null  int64  \n",
      " 7   stays_in_weekend_nights         87396 non-null  int64  \n",
      " 8   stays_in_week_nights            87396 non-null  int64  \n",
      " 9   adults                          87396 non-null  int64  \n",
      " 10  children                        87392 non-null  float64\n",
      " 11  babies                          87396 non-null  int64  \n",
      " 12  meal                            87396 non-null  object \n",
      " 13  country                         86944 non-null  object \n",
      " 14  market_segment                  87396 non-null  object \n",
      " 15  distribution_channel            87396 non-null  object \n",
      " 16  is_repeated_guest               87396 non-null  int64  \n",
      " 17  previous_cancellations          87396 non-null  int64  \n",
      " 18  previous_bookings_not_canceled  87396 non-null  int64  \n",
      " 19  reserved_room_type              87396 non-null  object \n",
      " 20  assigned_room_type              87396 non-null  object \n",
      " 21  booking_changes                 87396 non-null  int64  \n",
      " 22  deposit_type                    87396 non-null  object \n",
      " 23  agent                           75203 non-null  float64\n",
      " 24  company                         5259 non-null   float64\n",
      " 25  days_in_waiting_list            87396 non-null  int64  \n",
      " 26  customer_type                   87396 non-null  object \n",
      " 27  adr                             87396 non-null  float64\n",
      " 28  required_car_parking_spaces     87396 non-null  int64  \n",
      " 29  total_of_special_requests       87396 non-null  int64  \n",
      " 30  reservation_status              87396 non-null  object \n",
      " 31  reservation_status_date         87396 non-null  object \n",
      "dtypes: float64(4), int64(16), object(12)\n",
      "memory usage: 22.0+ MB\n"
     ]
    }
   ],
   "source": [
    "hotel_booking_data.info()"
   ]
  },
  {
   "cell_type": "markdown",
   "metadata": {},
   "source": [
    "### Handle Missing Values"
   ]
  },
  {
   "cell_type": "markdown",
   "metadata": {},
   "source": [
    "For the missing data, we chose several approaches:\n",
    "- For the \"children\" column, we replaced them with 0.\n",
    "- For the \"country\" column, we replaced them with \"Unknown.\"\n",
    "- For the \"agent\" and \"company\" columns, we replaced them with -1."
   ]
  },
  {
   "cell_type": "code",
   "execution_count": 8,
   "metadata": {},
   "outputs": [
    {
     "data": {
      "text/plain": [
       "hotel                                 0\n",
       "is_canceled                           0\n",
       "lead_time                             0\n",
       "arrival_date_year                     0\n",
       "arrival_date_month                    0\n",
       "arrival_date_week_number              0\n",
       "arrival_date_day_of_month             0\n",
       "stays_in_weekend_nights               0\n",
       "stays_in_week_nights                  0\n",
       "adults                                0\n",
       "children                              4\n",
       "babies                                0\n",
       "meal                                  0\n",
       "country                             452\n",
       "market_segment                        0\n",
       "distribution_channel                  0\n",
       "is_repeated_guest                     0\n",
       "previous_cancellations                0\n",
       "previous_bookings_not_canceled        0\n",
       "reserved_room_type                    0\n",
       "assigned_room_type                    0\n",
       "booking_changes                       0\n",
       "deposit_type                          0\n",
       "agent                             12193\n",
       "company                           82137\n",
       "days_in_waiting_list                  0\n",
       "customer_type                         0\n",
       "adr                                   0\n",
       "required_car_parking_spaces           0\n",
       "total_of_special_requests             0\n",
       "reservation_status                    0\n",
       "reservation_status_date               0\n",
       "dtype: int64"
      ]
     },
     "execution_count": 8,
     "metadata": {},
     "output_type": "execute_result"
    }
   ],
   "source": [
    "hotel_booking_data.isnull().sum()"
   ]
  },
  {
   "cell_type": "code",
   "execution_count": 9,
   "metadata": {},
   "outputs": [
    {
     "data": {
      "text/plain": [
       "count    87392.000000\n",
       "mean         0.138640\n",
       "std          0.455881\n",
       "min          0.000000\n",
       "25%          0.000000\n",
       "50%          0.000000\n",
       "75%          0.000000\n",
       "max         10.000000\n",
       "Name: children, dtype: float64"
      ]
     },
     "execution_count": 9,
     "metadata": {},
     "output_type": "execute_result"
    }
   ],
   "source": [
    "hotel_booking_data['children'].describe()"
   ]
  },
  {
   "cell_type": "code",
   "execution_count": 10,
   "metadata": {},
   "outputs": [
    {
     "data": {
      "text/plain": [
       "0"
      ]
     },
     "execution_count": 10,
     "metadata": {},
     "output_type": "execute_result"
    }
   ],
   "source": [
    "hotel_booking_data['children'] = hotel_booking_data['children'].fillna(0)\n",
    "hotel_booking_data['children'].isnull().sum()"
   ]
  },
  {
   "cell_type": "code",
   "execution_count": 11,
   "metadata": {},
   "outputs": [
    {
     "data": {
      "text/plain": [
       "count     86944\n",
       "unique      177\n",
       "top         PRT\n",
       "freq      27453\n",
       "Name: country, dtype: object"
      ]
     },
     "execution_count": 11,
     "metadata": {},
     "output_type": "execute_result"
    }
   ],
   "source": [
    "hotel_booking_data['country'].describe()"
   ]
  },
  {
   "cell_type": "code",
   "execution_count": 12,
   "metadata": {},
   "outputs": [
    {
     "data": {
      "text/plain": [
       "0"
      ]
     },
     "execution_count": 12,
     "metadata": {},
     "output_type": "execute_result"
    }
   ],
   "source": [
    "hotel_booking_data['country'] = hotel_booking_data['country'].fillna('Unknown')\n",
    "hotel_booking_data['country'].isnull().sum()"
   ]
  },
  {
   "cell_type": "code",
   "execution_count": 13,
   "metadata": {},
   "outputs": [
    {
     "data": {
      "text/plain": [
       "0"
      ]
     },
     "execution_count": 13,
     "metadata": {},
     "output_type": "execute_result"
    }
   ],
   "source": [
    "hotel_booking_data['agent'] = hotel_booking_data['agent'].fillna(-1)\n",
    "hotel_booking_data['agent'].isnull().sum()"
   ]
  },
  {
   "cell_type": "code",
   "execution_count": 14,
   "metadata": {},
   "outputs": [
    {
     "data": {
      "text/plain": [
       "0"
      ]
     },
     "execution_count": 14,
     "metadata": {},
     "output_type": "execute_result"
    }
   ],
   "source": [
    "hotel_booking_data['company'] = hotel_booking_data['company'].fillna(-1)\n",
    "hotel_booking_data['company'].isnull().sum()"
   ]
  },
  {
   "cell_type": "code",
   "execution_count": 15,
   "metadata": {},
   "outputs": [
    {
     "data": {
      "text/plain": [
       "0"
      ]
     },
     "execution_count": 15,
     "metadata": {},
     "output_type": "execute_result"
    }
   ],
   "source": [
    "hotel_booking_data.isnull().any().sum()"
   ]
  },
  {
   "cell_type": "markdown",
   "metadata": {},
   "source": [
    "###  Convert the dtypes"
   ]
  },
  {
   "cell_type": "markdown",
   "metadata": {},
   "source": [
    "We converted the data format to the desired forms."
   ]
  },
  {
   "cell_type": "code",
   "execution_count": 16,
   "metadata": {},
   "outputs": [
    {
     "name": "stdout",
     "output_type": "stream",
     "text": [
      "<class 'pandas.core.frame.DataFrame'>\n",
      "Index: 87396 entries, 0 to 119389\n",
      "Data columns (total 32 columns):\n",
      " #   Column                          Non-Null Count  Dtype  \n",
      "---  ------                          --------------  -----  \n",
      " 0   hotel                           87396 non-null  object \n",
      " 1   is_canceled                     87396 non-null  int64  \n",
      " 2   lead_time                       87396 non-null  int64  \n",
      " 3   arrival_date_year               87396 non-null  int64  \n",
      " 4   arrival_date_month              87396 non-null  object \n",
      " 5   arrival_date_week_number        87396 non-null  int64  \n",
      " 6   arrival_date_day_of_month       87396 non-null  int64  \n",
      " 7   stays_in_weekend_nights         87396 non-null  int64  \n",
      " 8   stays_in_week_nights            87396 non-null  int64  \n",
      " 9   adults                          87396 non-null  int64  \n",
      " 10  children                        87396 non-null  float64\n",
      " 11  babies                          87396 non-null  int64  \n",
      " 12  meal                            87396 non-null  object \n",
      " 13  country                         87396 non-null  object \n",
      " 14  market_segment                  87396 non-null  object \n",
      " 15  distribution_channel            87396 non-null  object \n",
      " 16  is_repeated_guest               87396 non-null  int64  \n",
      " 17  previous_cancellations          87396 non-null  int64  \n",
      " 18  previous_bookings_not_canceled  87396 non-null  int64  \n",
      " 19  reserved_room_type              87396 non-null  object \n",
      " 20  assigned_room_type              87396 non-null  object \n",
      " 21  booking_changes                 87396 non-null  int64  \n",
      " 22  deposit_type                    87396 non-null  object \n",
      " 23  agent                           87396 non-null  float64\n",
      " 24  company                         87396 non-null  float64\n",
      " 25  days_in_waiting_list            87396 non-null  int64  \n",
      " 26  customer_type                   87396 non-null  object \n",
      " 27  adr                             87396 non-null  float64\n",
      " 28  required_car_parking_spaces     87396 non-null  int64  \n",
      " 29  total_of_special_requests       87396 non-null  int64  \n",
      " 30  reservation_status              87396 non-null  object \n",
      " 31  reservation_status_date         87396 non-null  object \n",
      "dtypes: float64(4), int64(16), object(12)\n",
      "memory usage: 22.0+ MB\n"
     ]
    }
   ],
   "source": [
    "hotel_booking_data.info()"
   ]
  },
  {
   "cell_type": "code",
   "execution_count": 17,
   "metadata": {},
   "outputs": [
    {
     "name": "stdout",
     "output_type": "stream",
     "text": [
      "hotel: 2\n",
      "arrival_date_month: 12\n",
      "meal: 5\n",
      "country: 178\n",
      "market_segment: 8\n",
      "distribution_channel: 5\n",
      "reserved_room_type: 10\n",
      "assigned_room_type: 12\n",
      "deposit_type: 3\n",
      "customer_type: 4\n",
      "reservation_status: 3\n",
      "reservation_status_date: 926\n"
     ]
    }
   ],
   "source": [
    "for col in hotel_booking_data.select_dtypes(include=['object']).columns:\n",
    "    num_uniq = hotel_booking_data[col].nunique()    \n",
    "    print(f\"{col}: {num_uniq}\")\n",
    "    if num_uniq < 10:\n",
    "        hotel_booking_data[col] = hotel_booking_data[col].astype('category')"
   ]
  },
  {
   "cell_type": "code",
   "execution_count": 18,
   "metadata": {},
   "outputs": [],
   "source": [
    "hotel_booking_data['children'] = hotel_booking_data['children'].astype('int64')\n",
    "hotel_booking_data['agent'] = hotel_booking_data['agent'].astype('int64')\n",
    "hotel_booking_data['company'] = hotel_booking_data['company'].astype('int64')"
   ]
  },
  {
   "cell_type": "code",
   "execution_count": 19,
   "metadata": {},
   "outputs": [],
   "source": [
    "hotel_booking_data['reservation_status_date'] = pd.to_datetime(hotel_booking_data['reservation_status_date'])"
   ]
  },
  {
   "cell_type": "code",
   "execution_count": 20,
   "metadata": {},
   "outputs": [
    {
     "name": "stdout",
     "output_type": "stream",
     "text": [
      "<class 'pandas.core.frame.DataFrame'>\n",
      "Index: 87396 entries, 0 to 119389\n",
      "Data columns (total 32 columns):\n",
      " #   Column                          Non-Null Count  Dtype         \n",
      "---  ------                          --------------  -----         \n",
      " 0   hotel                           87396 non-null  category      \n",
      " 1   is_canceled                     87396 non-null  int64         \n",
      " 2   lead_time                       87396 non-null  int64         \n",
      " 3   arrival_date_year               87396 non-null  int64         \n",
      " 4   arrival_date_month              87396 non-null  object        \n",
      " 5   arrival_date_week_number        87396 non-null  int64         \n",
      " 6   arrival_date_day_of_month       87396 non-null  int64         \n",
      " 7   stays_in_weekend_nights         87396 non-null  int64         \n",
      " 8   stays_in_week_nights            87396 non-null  int64         \n",
      " 9   adults                          87396 non-null  int64         \n",
      " 10  children                        87396 non-null  int64         \n",
      " 11  babies                          87396 non-null  int64         \n",
      " 12  meal                            87396 non-null  category      \n",
      " 13  country                         87396 non-null  object        \n",
      " 14  market_segment                  87396 non-null  category      \n",
      " 15  distribution_channel            87396 non-null  category      \n",
      " 16  is_repeated_guest               87396 non-null  int64         \n",
      " 17  previous_cancellations          87396 non-null  int64         \n",
      " 18  previous_bookings_not_canceled  87396 non-null  int64         \n",
      " 19  reserved_room_type              87396 non-null  object        \n",
      " 20  assigned_room_type              87396 non-null  object        \n",
      " 21  booking_changes                 87396 non-null  int64         \n",
      " 22  deposit_type                    87396 non-null  category      \n",
      " 23  agent                           87396 non-null  int64         \n",
      " 24  company                         87396 non-null  int64         \n",
      " 25  days_in_waiting_list            87396 non-null  int64         \n",
      " 26  customer_type                   87396 non-null  category      \n",
      " 27  adr                             87396 non-null  float64       \n",
      " 28  required_car_parking_spaces     87396 non-null  int64         \n",
      " 29  total_of_special_requests       87396 non-null  int64         \n",
      " 30  reservation_status              87396 non-null  category      \n",
      " 31  reservation_status_date         87396 non-null  datetime64[ns]\n",
      "dtypes: category(7), datetime64[ns](1), float64(1), int64(19), object(4)\n",
      "memory usage: 17.9+ MB\n"
     ]
    }
   ],
   "source": [
    "hotel_booking_data.info()"
   ]
  },
  {
   "cell_type": "markdown",
   "metadata": {},
   "source": [
    "### Preprocessings Analysis"
   ]
  },
  {
   "cell_type": "markdown",
   "metadata": {},
   "source": [
    "We created the columns for the remaining nights and the arrival time column."
   ]
  },
  {
   "cell_type": "code",
   "execution_count": 21,
   "metadata": {},
   "outputs": [],
   "source": [
    "hotel_booking_data[\"all_stay_nights\"] = hotel_booking_data[\"stays_in_week_nights\"] + hotel_booking_data[\"stays_in_weekend_nights\"]"
   ]
  },
  {
   "cell_type": "code",
   "execution_count": 22,
   "metadata": {},
   "outputs": [],
   "source": [
    "month_map = {'January': 1, 'February': 2, 'March': 3, 'April': 4, 'May': 5, 'June': 6, \n",
    "             'July': 7, 'August': 8, 'September': 9, 'October': 10, 'November': 11, 'December': 12}\n",
    "\n",
    "hotel_booking_data['arrival_date'] = pd.to_datetime({'year': hotel_booking_data['arrival_date_year'],\n",
    "                                                     'month': hotel_booking_data['arrival_date_month'].apply(lambda x: month_map[x]),\n",
    "                                                     'day': hotel_booking_data['arrival_date_day_of_month']})"
   ]
  },
  {
   "cell_type": "markdown",
   "metadata": {},
   "source": [
    "### Q1-1. There are two types of hotels in the dataset, which type of hotels booked most? "
   ]
  },
  {
   "cell_type": "markdown",
   "metadata": {},
   "source": [
    "We grouped the dataset based on hotel types and calculated the number of bookings for each hotel. Then, based on the analysis of booking amounts for different types of hotels, the city hotel had twice as many bookings as the resort hotel."
   ]
  },
  {
   "cell_type": "code",
   "execution_count": 23,
   "metadata": {},
   "outputs": [
    {
     "data": {
      "text/plain": [
       "<Figure size 1600x800 with 0 Axes>"
      ]
     },
     "metadata": {},
     "output_type": "display_data"
    },
    {
     "data": {
      "image/png": "[encoded data removed]",
      "text/plain": [
       "<Figure size 640x480 with 1 Axes>"
      ]
     },
     "metadata": {},
     "output_type": "display_data"
    }
   ],
   "source": [
    "hotel_counts = hotel_booking_data['hotel'].value_counts()\n",
    "\n",
    "plt.figure(figsize=(16, 8))\n",
    "\n",
    "fig, ax = plt.subplots(1)\n",
    "ax.pie(hotel_counts, labels=hotel_counts.index,\n",
    "             startangle=90, autopct='%1.1f%%',\n",
    "             colors = ['#66785F', '#B2C9AD'],\n",
    "             textprops ={'color': \"#3C3D37\"} \n",
    "             )\n",
    "\n",
    "ax.set_title(\n",
    "    \"Hotels booked\",\n",
    "    weight=\"bold\",\n",
    "    color=\"#3C3D37\",\n",
    "    fontsize=18,\n",
    "    loc=\"left\",\n",
    ")\n",
    "\n",
    "\n",
    "plt.show()"
   ]
  },
  {
   "cell_type": "markdown",
   "metadata": {},
   "source": [
    "### Q2- What percentage of bookings were cancelled?"
   ]
  },
  {
   "cell_type": "markdown",
   "metadata": {},
   "source": [
    "We examined the cancellation rates of bookings, and according to the results, approximately one-quarter of the bookings were canceled, which seems to be a high number."
   ]
  },
  {
   "cell_type": "code",
   "execution_count": 24,
   "metadata": {},
   "outputs": [
    {
     "data": {
      "text/plain": [
       "<Figure size 1600x800 with 0 Axes>"
      ]
     },
     "metadata": {},
     "output_type": "display_data"
    },
    {
     "data": {
      "image/png": "[encoded data removed]",
      "text/plain": [
       "<Figure size 640x480 with 1 Axes>"
      ]
     },
     "metadata": {},
     "output_type": "display_data"
    }
   ],
   "source": [
    "canceled_counts = hotel_booking_data['is_canceled'].value_counts()\n",
    "\n",
    "plt.figure(figsize=(16, 8))\n",
    "\n",
    "fig, ax = plt.subplots(1)\n",
    "ax.pie(canceled_counts, labels=['No', 'Yes'],\n",
    "             startangle=90, autopct='%1.1f%%',\n",
    "             colors = ['#66785F', '#B2C9AD'],\n",
    "             textprops ={'color': \"#3C3D37\"} \n",
    "             )\n",
    "\n",
    "ax.set_title(\n",
    "    \"Is the booking cancelled?\",\n",
    "    weight=\"bold\",\n",
    "    color=\"#3C3D37\",\n",
    "    fontsize=18,\n",
    "    loc=\"left\",\n",
    ")\n",
    "\n",
    "\n",
    "plt.show()"
   ]
  },
  {
   "cell_type": "markdown",
   "metadata": {},
   "source": [
    "### Q3- Based on different hotel types, what percentage of bookings were cancelled?"
   ]
  },
  {
   "cell_type": "markdown",
   "metadata": {},
   "source": [
    "we examined the cancellation rates for each of the two hotel types. According to the results, the city hotel had a higher cancellation percentage, with 3 out of every 10 bookings being canceled."
   ]
  },
  {
   "cell_type": "code",
   "execution_count": 25,
   "metadata": {},
   "outputs": [
    {
     "name": "stderr",
     "output_type": "stream",
     "text": [
      "C:\\Users\\eftekhari\\AppData\\Local\\Temp\\ipykernel_7296\\3837343385.py:1: FutureWarning: The default of observed=False is deprecated and will be changed to True in a future version of pandas. Pass observed=False to retain current behavior or observed=True to adopt the future default and silence this warning.\n",
      "  cancel_by_hotel = hotel_booking_data.groupby('hotel')['is_canceled'].value_counts(normalize=True).unstack()\n"
     ]
    },
    {
     "data": {
      "text/plain": [
       "<Figure size 1600x800 with 0 Axes>"
      ]
     },
     "metadata": {},
     "output_type": "display_data"
    },
    {
     "data": {
      "image/png": "[encoded data removed]",
      "text/plain": [
       "<Figure size 640x480 with 1 Axes>"
      ]
     },
     "metadata": {},
     "output_type": "display_data"
    }
   ],
   "source": [
    "cancel_by_hotel = hotel_booking_data.groupby('hotel')['is_canceled'].value_counts(normalize=True).unstack()\n",
    "cancel_percentage_by_hotel = cancel_by_hotel.loc[:, 1] * 100\n",
    "cancel_percentage_by_hotel = cancel_percentage_by_hotel.sort_values(ascending=False)\n",
    "\n",
    "plt.figure(figsize=(16, 8))\n",
    "\n",
    "fig, ax = plt.subplots(1)\n",
    "ax.barh(cancel_percentage_by_hotel.index, cancel_percentage_by_hotel.values, color=['#66785F', '#B2C9AD'], )\n",
    "\n",
    "ax.set_title(\n",
    "    \"Cancellation percentage for each hotel\",\n",
    "    weight=\"bold\",\n",
    "    color=\"#3C3D37\",\n",
    "    fontsize=15,\n",
    "    loc=\"left\",\n",
    ")\n",
    "ax.set_xlabel(\n",
    "    \"percentage\",\n",
    "    loc=\"left\",\n",
    "    weight=\"bold\",\n",
    "    fontsize=14,\n",
    "    color=\"#3C3D37\",\n",
    ")\n",
    "ax.set_ylabel(\n",
    "    \"Hotel\",\n",
    "    loc=\"bottom\",\n",
    "    weight=\"bold\",\n",
    "    fontsize=14,\n",
    "    color=\"#3C3D37\",\n",
    ")\n",
    "\n",
    "ax.spines[[\"right\", \"top\"]].set_visible(False)\n",
    "ax.tick_params(axis='x', colors='#3C3D37')\n",
    "ax.tick_params(axis='y', colors='#3C3D37')\n",
    "\n",
    "ax.grid(axis='x', linestyle='--', alpha=0.6, color= '#3C3D37')\n",
    "ax.set_xlim(0, 100)\n",
    "\n",
    "for i, v in enumerate(cancel_percentage_by_hotel.values):\n",
    "    ax.text(v + 1, i, f'{v:.1f}%', va='center', fontsize=10, color='#3C3D37')\n",
    "\n",
    "\n"
   ]
  },
  {
   "cell_type": "markdown",
   "metadata": {},
   "source": [
    "### Q4-. In different years, what type of hotels were booked most and booked least? "
   ]
  },
  {
   "cell_type": "markdown",
   "metadata": {},
   "source": [
    "We divided the dataset based on hotels and booking years, and a significant increase in bookings in 2016 compared to the years before and after was noticeable. Additionally, the number of bookings for the city hotel was twice as high as for the resort hotel in 2016 and 2017, while both hotels had equal bookings in 2015. This could indicate a growing interest in city hotels."
   ]
  },
  {
   "cell_type": "code",
   "execution_count": 26,
   "metadata": {},
   "outputs": [
    {
     "name": "stderr",
     "output_type": "stream",
     "text": [
      "C:\\Users\\eftekhari\\AppData\\Local\\Temp\\ipykernel_7296\\1566433861.py:1: FutureWarning: The default of observed=False is deprecated and will be changed to True in a future version of pandas. Pass observed=False to retain current behavior or observed=True to adopt the future default and silence this warning.\n",
      "  hotel_book_year = hotel_booking_data.groupby(['arrival_date_year', 'hotel']).size().reset_index(name='count')\n"
     ]
    },
    {
     "data": {
      "text/plain": [
       "<Figure size 1600x800 with 0 Axes>"
      ]
     },
     "metadata": {},
     "output_type": "display_data"
    },
    {
     "data": {
      "image/png": "[encoded data removed]",
      "text/plain": [
       "<Figure size 640x480 with 1 Axes>"
      ]
     },
     "metadata": {},
     "output_type": "display_data"
    }
   ],
   "source": [
    "hotel_book_year = hotel_booking_data.groupby(['arrival_date_year', 'hotel']).size().reset_index(name='count')\n",
    "\n",
    "plt.figure(figsize=(16, 8))\n",
    "\n",
    "fig, ax = plt.subplots(1)\n",
    "\n",
    "sns.barplot(x='arrival_date_year', y='count', hue='hotel', data=hotel_book_year, ax=ax, palette=['#66785F', '#B2C9AD'])\n",
    "\n",
    "ax.set_title(\n",
    "    \"Booked in year\",\n",
    "    weight=\"bold\",\n",
    "    color=\"#3C3D37\",\n",
    "    fontsize=15,\n",
    "    loc=\"left\",\n",
    ")\n",
    "ax.set_xlabel(\n",
    "    \"year\",\n",
    "    loc=\"left\",\n",
    "    weight=\"bold\",\n",
    "    fontsize=14,\n",
    "    color=\"#3C3D37\",\n",
    ")\n",
    "ax.set_ylabel(\n",
    "    \"Number of book\",\n",
    "    loc=\"bottom\",\n",
    "    weight=\"bold\",\n",
    "    fontsize=14,\n",
    "    color=\"#3C3D37\",\n",
    ")\n",
    "\n",
    "ax.spines[[\"right\", \"top\"]].set_visible(False)\n",
    "ax.tick_params(axis='x', colors='#3C3D37')\n",
    "ax.tick_params(axis='y', colors='#3C3D37')\n",
    "\n"
   ]
  },
  {
   "cell_type": "markdown",
   "metadata": {},
   "source": [
    "### Q5-According to different hotel types, how ‘adr’ changes in different months?\n"
   ]
  },
  {
   "cell_type": "markdown",
   "metadata": {},
   "source": [
    "We examined the data based on the daily cost of each hotel per month. According to the analysis, in the spring, fall, and winter seasons, the cost of the resort hotel is lower than that of the city hotel, but in the summer, the situation is the opposite. Additionally, in the early and late months of the year, the average cost for both hotels is lower than in other months."
   ]
  },
  {
   "cell_type": "code",
   "execution_count": 27,
   "metadata": {},
   "outputs": [
    {
     "name": "stderr",
     "output_type": "stream",
     "text": [
      "C:\\Users\\eftekhari\\AppData\\Local\\Temp\\ipykernel_7296\\1422204844.py:5: FutureWarning: The default of observed=False is deprecated and will be changed to True in a future version of pandas. Pass observed=False to retain current behavior or observed=True to adopt the future default and silence this warning.\n",
      "  adr_monthly = hotel_booking_data.groupby(['arrival_date_month', 'hotel'])[\n",
      "C:\\Users\\eftekhari\\AppData\\Local\\Temp\\ipykernel_7296\\1422204844.py:43: UserWarning: set_ticklabels() should only be used with a fixed number of ticks, i.e. after set_ticks() or using a FixedLocator.\n",
      "  ax.set_xticklabels(adr_monthly['arrival_date_month'].unique(), rotation=45)\n"
     ]
    },
    {
     "data": {
      "text/plain": [
       "<matplotlib.legend.Legend at 0x29b834652a0>"
      ]
     },
     "execution_count": 27,
     "metadata": {},
     "output_type": "execute_result"
    },
    {
     "data": {
      "text/plain": [
       "<Figure size 1600x800 with 0 Axes>"
      ]
     },
     "metadata": {},
     "output_type": "display_data"
    },
    {
     "data": {
      "image/png": "[encoded data removed]",
      "text/plain": [
       "<Figure size 640x480 with 1 Axes>"
      ]
     },
     "metadata": {},
     "output_type": "display_data"
    }
   ],
   "source": [
    "month_map = {'January': 1, 'February': 2, 'March': 3, 'April': 4, 'May': 5, 'June': 6, \n",
    "             'July': 7, 'August': 8, 'September': 9, 'October': 10, 'November': 11, 'December': 12}\n",
    "\n",
    "\n",
    "adr_monthly = hotel_booking_data.groupby(['arrival_date_month', 'hotel'])[\n",
    "    'adr'].mean().reset_index()\n",
    "adr_monthly['month_number'] = adr_monthly['arrival_date_month'].map(month_map)\n",
    "adr_monthly = adr_monthly.sort_values(['month_number', 'hotel']).drop(columns=['month_number'])\n",
    "\n",
    "\n",
    "plt.figure(figsize=(16, 8))\n",
    "\n",
    "fig, ax = plt.subplots(1)\n",
    "\n",
    "colors = ['#66785F', '#B2C9AD']\n",
    "\n",
    "for color, hotel_type in zip(colors, adr_monthly['hotel'].unique()):\n",
    "    data = adr_monthly[adr_monthly['hotel'] == hotel_type]\n",
    "    ax.plot(data['arrival_date_month'], data['adr'],\n",
    "            label=hotel_type, color=color, marker='o')\n",
    "\n",
    "\n",
    "ax.set_title(\n",
    "    \"Average daily rate per month\",\n",
    "    weight=\"bold\",\n",
    "    color=\"#3C3D37\",\n",
    "    fontsize=15,\n",
    "    loc=\"left\",\n",
    ")\n",
    "\n",
    "ax.set_ylabel(\n",
    "    \"dolor\",\n",
    "    loc=\"bottom\",\n",
    "    weight=\"bold\",\n",
    "    fontsize=14,\n",
    "    color=\"#3C3D37\",\n",
    ")\n",
    "\n",
    "ax.spines[[\"right\", \"top\"]].set_visible(False)\n",
    "ax.tick_params(axis='x', colors='#3C3D37')\n",
    "ax.tick_params(axis='y', colors='#3C3D37')\n",
    "\n",
    "ax.set_xticklabels(adr_monthly['arrival_date_month'].unique(), rotation=45)\n",
    "\n",
    "ax.legend(title=\"Hotel Type\", title_fontsize=14)"
   ]
  },
  {
   "cell_type": "markdown",
   "metadata": {},
   "source": [
    "### Q6-Check hotel wise daily rates mean, standard deviation, median, min and max."
   ]
  },
  {
   "cell_type": "markdown",
   "metadata": {},
   "source": [
    "The daily rates of the hotels were examined (though outliers that distorted the analysis were disregarded). According to these analyses, the price ranges of the hotels are almost the same, but the city hotel rates are 10% higher. Additionally, the price variability is greater in the resort hotel."
   ]
  },
  {
   "cell_type": "code",
   "execution_count": 28,
   "metadata": {},
   "outputs": [
    {
     "name": "stderr",
     "output_type": "stream",
     "text": [
      "C:\\Users\\eftekhari\\AppData\\Local\\Temp\\ipykernel_7296\\1490408123.py:1: FutureWarning: The default of observed=False is deprecated and will be changed to True in a future version of pandas. Pass observed=False to retain current behavior or observed=True to adopt the future default and silence this warning.\n",
      "  hotel_adr_stats = hotel_booking_data.groupby('hotel')['adr'].agg(['mean', 'std', 'median', 'min', 'max'])\n"
     ]
    },
    {
     "data": {
      "text/html": [
       "<div>\n",
       "<style scoped>\n",
       "    .dataframe tbody tr th:only-of-type {\n",
       "        vertical-align: middle;\n",
       "    }\n",
       "\n",
       "    .dataframe tbody tr th {\n",
       "        vertical-align: top;\n",
       "    }\n",
       "\n",
       "    .dataframe thead th {\n",
       "        text-align: right;\n",
       "    }\n",
       "</style>\n",
       "<table border=\"1\" class=\"dataframe\">\n",
       "  <thead>\n",
       "    <tr style=\"text-align: right;\">\n",
       "      <th></th>\n",
       "      <th>mean</th>\n",
       "      <th>std</th>\n",
       "      <th>median</th>\n",
       "      <th>min</th>\n",
       "      <th>max</th>\n",
       "    </tr>\n",
       "    <tr>\n",
       "      <th>hotel</th>\n",
       "      <th></th>\n",
       "      <th></th>\n",
       "      <th></th>\n",
       "      <th></th>\n",
       "      <th></th>\n",
       "    </tr>\n",
       "  </thead>\n",
       "  <tbody>\n",
       "    <tr>\n",
       "      <th>City Hotel</th>\n",
       "      <td>110.985944</td>\n",
       "      <td>48.062518</td>\n",
       "      <td>105.3</td>\n",
       "      <td>0.00</td>\n",
       "      <td>5400.0</td>\n",
       "    </tr>\n",
       "    <tr>\n",
       "      <th>Resort Hotel</th>\n",
       "      <td>99.025346</td>\n",
       "      <td>63.766782</td>\n",
       "      <td>79.5</td>\n",
       "      <td>-6.38</td>\n",
       "      <td>508.0</td>\n",
       "    </tr>\n",
       "  </tbody>\n",
       "</table>\n",
       "</div>"
      ],
      "text/plain": [
       "                    mean        std  median   min     max\n",
       "hotel                                                    \n",
       "City Hotel    110.985944  48.062518   105.3  0.00  5400.0\n",
       "Resort Hotel   99.025346  63.766782    79.5 -6.38   508.0"
      ]
     },
     "execution_count": 28,
     "metadata": {},
     "output_type": "execute_result"
    }
   ],
   "source": [
    "hotel_adr_stats = hotel_booking_data.groupby('hotel')['adr'].agg(['mean', 'std', 'median', 'min', 'max'])\n",
    "hotel_adr_stats"
   ]
  },
  {
   "cell_type": "code",
   "execution_count": 29,
   "metadata": {},
   "outputs": [
    {
     "name": "stdout",
     "output_type": "stream",
     "text": [
      "1\n",
      "1778\n"
     ]
    }
   ],
   "source": [
    "print((hotel_booking_data['adr'] < 0).sum())\n",
    "print((hotel_booking_data['adr'] == 0).sum())"
   ]
  },
  {
   "cell_type": "code",
   "execution_count": 30,
   "metadata": {},
   "outputs": [
    {
     "name": "stderr",
     "output_type": "stream",
     "text": [
      "C:\\Users\\eftekhari\\AppData\\Local\\Temp\\ipykernel_7296\\1694060058.py:2: FutureWarning: The default of observed=False is deprecated and will be changed to True in a future version of pandas. Pass observed=False to retain current behavior or observed=True to adopt the future default and silence this warning.\n",
      "  hotel_adr_stats = hotel_adr.groupby('hotel')['adr'].agg(['mean', 'std', 'median', 'min', 'max'])\n"
     ]
    },
    {
     "data": {
      "text/html": [
       "<div>\n",
       "<style scoped>\n",
       "    .dataframe tbody tr th:only-of-type {\n",
       "        vertical-align: middle;\n",
       "    }\n",
       "\n",
       "    .dataframe tbody tr th {\n",
       "        vertical-align: top;\n",
       "    }\n",
       "\n",
       "    .dataframe thead th {\n",
       "        text-align: right;\n",
       "    }\n",
       "</style>\n",
       "<table border=\"1\" class=\"dataframe\">\n",
       "  <thead>\n",
       "    <tr style=\"text-align: right;\">\n",
       "      <th></th>\n",
       "      <th>mean</th>\n",
       "      <th>std</th>\n",
       "      <th>median</th>\n",
       "      <th>min</th>\n",
       "      <th>max</th>\n",
       "    </tr>\n",
       "    <tr>\n",
       "      <th>hotel</th>\n",
       "      <th></th>\n",
       "      <th></th>\n",
       "      <th></th>\n",
       "      <th></th>\n",
       "      <th></th>\n",
       "    </tr>\n",
       "  </thead>\n",
       "  <tbody>\n",
       "    <tr>\n",
       "      <th>City Hotel</th>\n",
       "      <td>110.985944</td>\n",
       "      <td>48.062518</td>\n",
       "      <td>105.3</td>\n",
       "      <td>0.0</td>\n",
       "      <td>5400.0</td>\n",
       "    </tr>\n",
       "    <tr>\n",
       "      <th>Resort Hotel</th>\n",
       "      <td>99.028449</td>\n",
       "      <td>63.765156</td>\n",
       "      <td>79.5</td>\n",
       "      <td>0.0</td>\n",
       "      <td>508.0</td>\n",
       "    </tr>\n",
       "  </tbody>\n",
       "</table>\n",
       "</div>"
      ],
      "text/plain": [
       "                    mean        std  median  min     max\n",
       "hotel                                                   \n",
       "City Hotel    110.985944  48.062518   105.3  0.0  5400.0\n",
       "Resort Hotel   99.028449  63.765156    79.5  0.0   508.0"
      ]
     },
     "execution_count": 30,
     "metadata": {},
     "output_type": "execute_result"
    }
   ],
   "source": [
    "hotel_adr = hotel_booking_data[hotel_booking_data['adr'] >= 0]\n",
    "hotel_adr_stats = hotel_adr.groupby('hotel')['adr'].agg(['mean', 'std', 'median', 'min', 'max'])\n",
    "hotel_adr_stats"
   ]
  },
  {
   "cell_type": "code",
   "execution_count": 31,
   "metadata": {},
   "outputs": [
    {
     "name": "stderr",
     "output_type": "stream",
     "text": [
      "C:\\Users\\eftekhari\\AppData\\Local\\Temp\\ipykernel_7296\\2641993789.py:3: FutureWarning: \n",
      "\n",
      "Passing `palette` without assigning `hue` is deprecated and will be removed in v0.14.0. Assign the `x` variable to `hue` and set `legend=False` for the same effect.\n",
      "\n",
      "  sns.boxplot(data=hotel_adr, x='hotel', y='adr', palette='Set2')\n"
     ]
    },
    {
     "data": {
      "text/plain": [
       "<Figure size 1200x600 with 0 Axes>"
      ]
     },
     "metadata": {},
     "output_type": "display_data"
    },
    {
     "data": {
      "image/png": "[encoded data removed]",
      "text/plain": [
       "<Figure size 640x480 with 1 Axes>"
      ]
     },
     "metadata": {},
     "output_type": "display_data"
    }
   ],
   "source": [
    "plt.figure(figsize=(12, 6))\n",
    "fig, ax = plt.subplots(1)\n",
    "sns.boxplot(data=hotel_adr, x='hotel', y='adr', palette='Set2')\n",
    "\n",
    "ax.set_title(\n",
    "    \"Checking hotel wise daily rates\",\n",
    "    weight=\"bold\",\n",
    "    color=\"#3C3D37\",\n",
    "    fontsize=15,\n",
    "    loc=\"left\",\n",
    ")\n",
    "ax.set_xlabel(\n",
    "    \"Hotel\",\n",
    "    loc=\"left\",\n",
    "    weight=\"bold\",\n",
    "    fontsize=14,\n",
    "    color=\"#3C3D37\",\n",
    ")\n",
    "ax.set_ylabel(\n",
    "    \"Dolor\",\n",
    "    loc=\"bottom\",\n",
    "    weight=\"bold\",\n",
    "    fontsize=14,\n",
    "    color=\"#3C3D37\",\n",
    ")\n",
    "\n",
    "ax.spines[[\"right\", \"top\"]].set_visible(False)\n",
    "ax.tick_params(axis='x', colors='#3C3D37')\n",
    "ax.tick_params(axis='y', colors='#3C3D37')"
   ]
  },
  {
   "cell_type": "code",
   "execution_count": 32,
   "metadata": {},
   "outputs": [
    {
     "name": "stderr",
     "output_type": "stream",
     "text": [
      "C:\\Users\\eftekhari\\AppData\\Local\\Temp\\ipykernel_7296\\2799014409.py:2: FutureWarning: The default of observed=False is deprecated and will be changed to True in a future version of pandas. Pass observed=False to retain current behavior or observed=True to adopt the future default and silence this warning.\n",
      "  hotel_adr_stats = hotel_adr.groupby('hotel')['adr'].agg(['mean', 'std', 'median', 'min', 'max'])\n"
     ]
    },
    {
     "data": {
      "text/html": [
       "<div>\n",
       "<style scoped>\n",
       "    .dataframe tbody tr th:only-of-type {\n",
       "        vertical-align: middle;\n",
       "    }\n",
       "\n",
       "    .dataframe tbody tr th {\n",
       "        vertical-align: top;\n",
       "    }\n",
       "\n",
       "    .dataframe thead th {\n",
       "        text-align: right;\n",
       "    }\n",
       "</style>\n",
       "<table border=\"1\" class=\"dataframe\">\n",
       "  <thead>\n",
       "    <tr style=\"text-align: right;\">\n",
       "      <th></th>\n",
       "      <th>mean</th>\n",
       "      <th>std</th>\n",
       "      <th>median</th>\n",
       "      <th>min</th>\n",
       "      <th>max</th>\n",
       "    </tr>\n",
       "    <tr>\n",
       "      <th>hotel</th>\n",
       "      <th></th>\n",
       "      <th></th>\n",
       "      <th></th>\n",
       "      <th></th>\n",
       "      <th></th>\n",
       "    </tr>\n",
       "  </thead>\n",
       "  <tbody>\n",
       "    <tr>\n",
       "      <th>City Hotel</th>\n",
       "      <td>110.886949</td>\n",
       "      <td>42.266328</td>\n",
       "      <td>105.3</td>\n",
       "      <td>0.0</td>\n",
       "      <td>510.0</td>\n",
       "    </tr>\n",
       "    <tr>\n",
       "      <th>Resort Hotel</th>\n",
       "      <td>99.028449</td>\n",
       "      <td>63.765156</td>\n",
       "      <td>79.5</td>\n",
       "      <td>0.0</td>\n",
       "      <td>508.0</td>\n",
       "    </tr>\n",
       "  </tbody>\n",
       "</table>\n",
       "</div>"
      ],
      "text/plain": [
       "                    mean        std  median  min    max\n",
       "hotel                                                  \n",
       "City Hotel    110.886949  42.266328   105.3  0.0  510.0\n",
       "Resort Hotel   99.028449  63.765156    79.5  0.0  508.0"
      ]
     },
     "execution_count": 32,
     "metadata": {},
     "output_type": "execute_result"
    }
   ],
   "source": [
    "hotel_adr = hotel_adr[hotel_adr['adr'] != hotel_adr['adr'].max()]\n",
    "hotel_adr_stats = hotel_adr.groupby('hotel')['adr'].agg(['mean', 'std', 'median', 'min', 'max'])\n",
    "hotel_adr_stats"
   ]
  },
  {
   "cell_type": "code",
   "execution_count": 33,
   "metadata": {},
   "outputs": [
    {
     "name": "stderr",
     "output_type": "stream",
     "text": [
      "C:\\Users\\eftekhari\\AppData\\Local\\Temp\\ipykernel_7296\\3217822902.py:4: FutureWarning: \n",
      "\n",
      "Passing `palette` without assigning `hue` is deprecated and will be removed in v0.14.0. Assign the `x` variable to `hue` and set `legend=False` for the same effect.\n",
      "\n",
      "  sns.boxplot(data=hotel_adr, x='hotel', y='adr', ax=ax, palette=['#66785F', '#B2C9AD'])\n"
     ]
    },
    {
     "data": {
      "text/plain": [
       "<Figure size 1200x600 with 0 Axes>"
      ]
     },
     "metadata": {},
     "output_type": "display_data"
    },
    {
     "data": {
      "image/png": "[encoded data removed]",
      "text/plain": [
       "<Figure size 640x480 with 1 Axes>"
      ]
     },
     "metadata": {},
     "output_type": "display_data"
    }
   ],
   "source": [
    "plt.figure(figsize=(12, 6))\n",
    "fig, ax = plt.subplots(1)\n",
    "\n",
    "sns.boxplot(data=hotel_adr, x='hotel', y='adr', ax=ax, palette=['#66785F', '#B2C9AD'])\n",
    "\n",
    "ax.set_title(\n",
    "    \"Checking hotel wise daily rates\",\n",
    "    weight=\"bold\",\n",
    "    color=\"#3C3D37\",\n",
    "    fontsize=15,\n",
    "    loc=\"left\",\n",
    ")\n",
    "ax.set_xlabel(\n",
    "    \"Hotel\",\n",
    "    loc=\"left\",\n",
    "    weight=\"bold\",\n",
    "    fontsize=14,\n",
    "    color=\"#3C3D37\",\n",
    ")\n",
    "ax.set_ylabel(\n",
    "    \"Dolor\",\n",
    "    loc=\"bottom\",\n",
    "    weight=\"bold\",\n",
    "    fontsize=14,\n",
    "    color=\"#3C3D37\",\n",
    ")\n",
    "\n",
    "ax.spines[[\"right\", \"top\"]].set_visible(False)\n",
    "ax.tick_params(axis='x', colors='#3C3D37')\n",
    "ax.tick_params(axis='y', colors='#3C3D37')"
   ]
  },
  {
   "cell_type": "code",
   "execution_count": 34,
   "metadata": {},
   "outputs": [
    {
     "name": "stderr",
     "output_type": "stream",
     "text": [
      "C:\\Users\\eftekhari\\AppData\\Local\\Temp\\ipykernel_7296\\2982431737.py:2: FutureWarning: The default of observed=False is deprecated and will be changed to True in a future version of pandas. Pass observed=False to retain current behavior or observed=True to adopt the future default and silence this warning.\n",
      "  hotel_adr_stats = hotel_adr.groupby('hotel')['adr'].agg(['mean', 'std', 'median', 'min', 'max'])\n",
      "C:\\Users\\eftekhari\\AppData\\Local\\Temp\\ipykernel_7296\\2982431737.py:4: FutureWarning: The default of observed=False is deprecated and will be changed to True in a future version of pandas. Pass observed=False to retain current behavior or observed=True to adopt the future default and silence this warning.\n",
      "  hotel_adr_stats = hotel_adr.groupby('hotel')['adr'].agg(['mean', 'std', 'median', 'min', 'max'])\n"
     ]
    },
    {
     "data": {
      "text/html": [
       "<div>\n",
       "<style scoped>\n",
       "    .dataframe tbody tr th:only-of-type {\n",
       "        vertical-align: middle;\n",
       "    }\n",
       "\n",
       "    .dataframe tbody tr th {\n",
       "        vertical-align: top;\n",
       "    }\n",
       "\n",
       "    .dataframe thead th {\n",
       "        text-align: right;\n",
       "    }\n",
       "</style>\n",
       "<table border=\"1\" class=\"dataframe\">\n",
       "  <thead>\n",
       "    <tr style=\"text-align: right;\">\n",
       "      <th></th>\n",
       "      <th>mean</th>\n",
       "      <th>std</th>\n",
       "      <th>median</th>\n",
       "      <th>min</th>\n",
       "      <th>max</th>\n",
       "    </tr>\n",
       "    <tr>\n",
       "      <th>hotel</th>\n",
       "      <th></th>\n",
       "      <th></th>\n",
       "      <th></th>\n",
       "      <th></th>\n",
       "      <th></th>\n",
       "    </tr>\n",
       "  </thead>\n",
       "  <tbody>\n",
       "    <tr>\n",
       "      <th>City Hotel</th>\n",
       "      <td>113.168234</td>\n",
       "      <td>39.560358</td>\n",
       "      <td>106.25</td>\n",
       "      <td>0.50</td>\n",
       "      <td>510.0</td>\n",
       "    </tr>\n",
       "    <tr>\n",
       "      <th>Resort Hotel</th>\n",
       "      <td>101.115233</td>\n",
       "      <td>62.774730</td>\n",
       "      <td>80.10</td>\n",
       "      <td>0.26</td>\n",
       "      <td>508.0</td>\n",
       "    </tr>\n",
       "  </tbody>\n",
       "</table>\n",
       "</div>"
      ],
      "text/plain": [
       "                    mean        std  median   min    max\n",
       "hotel                                                   \n",
       "City Hotel    113.168234  39.560358  106.25  0.50  510.0\n",
       "Resort Hotel  101.115233  62.774730   80.10  0.26  508.0"
      ]
     },
     "execution_count": 34,
     "metadata": {},
     "output_type": "execute_result"
    }
   ],
   "source": [
    "hotel_adr = hotel_booking_data[hotel_booking_data['adr'] > 0]\n",
    "hotel_adr_stats = hotel_adr.groupby('hotel')['adr'].agg(['mean', 'std', 'median', 'min', 'max'])\n",
    "hotel_adr = hotel_adr[hotel_adr['adr'] != hotel_adr['adr'].max()]\n",
    "hotel_adr_stats = hotel_adr.groupby('hotel')['adr'].agg(['mean', 'std', 'median', 'min', 'max'])\n",
    "hotel_adr_stats"
   ]
  },
  {
   "cell_type": "code",
   "execution_count": 35,
   "metadata": {},
   "outputs": [
    {
     "name": "stderr",
     "output_type": "stream",
     "text": [
      "C:\\Users\\eftekhari\\AppData\\Local\\Temp\\ipykernel_7296\\3217822902.py:4: FutureWarning: \n",
      "\n",
      "Passing `palette` without assigning `hue` is deprecated and will be removed in v0.14.0. Assign the `x` variable to `hue` and set `legend=False` for the same effect.\n",
      "\n",
      "  sns.boxplot(data=hotel_adr, x='hotel', y='adr', ax=ax, palette=['#66785F', '#B2C9AD'])\n"
     ]
    },
    {
     "data": {
      "text/plain": [
       "<Figure size 1200x600 with 0 Axes>"
      ]
     },
     "metadata": {},
     "output_type": "display_data"
    },
    {
     "data": {
      "image/png": "[encoded data removed]",
      "text/plain": [
       "<Figure size 640x480 with 1 Axes>"
      ]
     },
     "metadata": {},
     "output_type": "display_data"
    }
   ],
   "source": [
    "plt.figure(figsize=(12, 6))\n",
    "fig, ax = plt.subplots(1)\n",
    "\n",
    "sns.boxplot(data=hotel_adr, x='hotel', y='adr', ax=ax, palette=['#66785F', '#B2C9AD'])\n",
    "\n",
    "ax.set_title(\n",
    "    \"Checking hotel wise daily rates\",\n",
    "    weight=\"bold\",\n",
    "    color=\"#3C3D37\",\n",
    "    fontsize=15,\n",
    "    loc=\"left\",\n",
    ")\n",
    "ax.set_xlabel(\n",
    "    \"Hotel\",\n",
    "    loc=\"left\",\n",
    "    weight=\"bold\",\n",
    "    fontsize=14,\n",
    "    color=\"#3C3D37\",\n",
    ")\n",
    "ax.set_ylabel(\n",
    "    \"Dolor\",\n",
    "    loc=\"bottom\",\n",
    "    weight=\"bold\",\n",
    "    fontsize=14,\n",
    "    color=\"#3C3D37\",\n",
    ")\n",
    "\n",
    "ax.spines[[\"right\", \"top\"]].set_visible(False)\n",
    "ax.tick_params(axis='x', colors='#3C3D37')\n",
    "ax.tick_params(axis='y', colors='#3C3D37')"
   ]
  },
  {
   "cell_type": "markdown",
   "metadata": {},
   "source": [
    "### Q7-Extract the number of bookings per country and investigate that most of the guests are from which countries?\n"
   ]
  },
  {
   "cell_type": "markdown",
   "metadata": {},
   "source": [
    "The booking data for each country was also analyzed, and according to this analysis, Portugal had the largest share, with nearly three times the number of bookings compared to the second and third countries."
   ]
  },
  {
   "cell_type": "code",
   "execution_count": 36,
   "metadata": {},
   "outputs": [
    {
     "data": {
      "text/plain": [
       "<Figure size 1200x600 with 0 Axes>"
      ]
     },
     "metadata": {},
     "output_type": "display_data"
    },
    {
     "data": {
      "image/png": "[encoded data removed]",
      "text/plain": [
       "<Figure size 640x480 with 1 Axes>"
      ]
     },
     "metadata": {},
     "output_type": "display_data"
    }
   ],
   "source": [
    "bookings_per_country = hotel_booking_data.groupby('country').size().reset_index(name='number of booking').sort_values(by='number of booking', ascending=False)\n",
    "top_countries = bookings_per_country.head(10)\n",
    "plt.figure(figsize=(12, 6))\n",
    "fig, ax = plt.subplots(1)\n",
    "ax.bar(top_countries['country'], top_countries['number of booking'], color='#66785F')\n",
    "\n",
    "ax.set_title(\n",
    "    \"number of bookings per country\",\n",
    "    weight=\"bold\",\n",
    "    color=\"#3C3D37\",\n",
    "    fontsize=15,\n",
    "    loc=\"left\",\n",
    ")\n",
    "ax.set_xlabel(\n",
    "    \"country\",\n",
    "    loc=\"left\",\n",
    "    weight=\"bold\",\n",
    "    fontsize=14,\n",
    "    color=\"#3C3D37\",\n",
    ")\n",
    "ax.set_ylabel(\n",
    "    \"booking\",\n",
    "    loc=\"bottom\",\n",
    "    weight=\"bold\",\n",
    "    fontsize=14,\n",
    "    color=\"#3C3D37\",\n",
    ")\n",
    "\n",
    "ax.spines[[\"right\", \"top\"]].set_visible(False)\n",
    "ax.tick_params(axis='x', colors='#3C3D37')\n",
    "ax.tick_params(axis='y', colors='#3C3D37')\n"
   ]
  },
  {
   "cell_type": "markdown",
   "metadata": {},
   "source": [
    "### Q8- According to the ‘market_segment’ most of the guests book their rooms on what channels?"
   ]
  },
  {
   "cell_type": "markdown",
   "metadata": {},
   "source": [
    "According to the market segment, most users make their bookings through online travel agents (OTA)."
   ]
  },
  {
   "cell_type": "code",
   "execution_count": 37,
   "metadata": {},
   "outputs": [
    {
     "name": "stderr",
     "output_type": "stream",
     "text": [
      "C:\\Users\\eftekhari\\AppData\\Local\\Temp\\ipykernel_7296\\2899606705.py:1: FutureWarning: The default of observed=False is deprecated and will be changed to True in a future version of pandas. Pass observed=False to retain current behavior or observed=True to adopt the future default and silence this warning.\n",
      "  hotel_booking_data.groupby('market_segment').size().sort_values(ascending=False).reset_index(name='amount')\n"
     ]
    },
    {
     "data": {
      "text/html": [
       "<div>\n",
       "<style scoped>\n",
       "    .dataframe tbody tr th:only-of-type {\n",
       "        vertical-align: middle;\n",
       "    }\n",
       "\n",
       "    .dataframe tbody tr th {\n",
       "        vertical-align: top;\n",
       "    }\n",
       "\n",
       "    .dataframe thead th {\n",
       "        text-align: right;\n",
       "    }\n",
       "</style>\n",
       "<table border=\"1\" class=\"dataframe\">\n",
       "  <thead>\n",
       "    <tr style=\"text-align: right;\">\n",
       "      <th></th>\n",
       "      <th>market_segment</th>\n",
       "      <th>amount</th>\n",
       "    </tr>\n",
       "  </thead>\n",
       "  <tbody>\n",
       "    <tr>\n",
       "      <th>0</th>\n",
       "      <td>Online TA</td>\n",
       "      <td>51618</td>\n",
       "    </tr>\n",
       "    <tr>\n",
       "      <th>1</th>\n",
       "      <td>Offline TA/TO</td>\n",
       "      <td>13889</td>\n",
       "    </tr>\n",
       "    <tr>\n",
       "      <th>2</th>\n",
       "      <td>Direct</td>\n",
       "      <td>11804</td>\n",
       "    </tr>\n",
       "    <tr>\n",
       "      <th>3</th>\n",
       "      <td>Groups</td>\n",
       "      <td>4942</td>\n",
       "    </tr>\n",
       "    <tr>\n",
       "      <th>4</th>\n",
       "      <td>Corporate</td>\n",
       "      <td>4212</td>\n",
       "    </tr>\n",
       "    <tr>\n",
       "      <th>5</th>\n",
       "      <td>Complementary</td>\n",
       "      <td>702</td>\n",
       "    </tr>\n",
       "    <tr>\n",
       "      <th>6</th>\n",
       "      <td>Aviation</td>\n",
       "      <td>227</td>\n",
       "    </tr>\n",
       "    <tr>\n",
       "      <th>7</th>\n",
       "      <td>Undefined</td>\n",
       "      <td>2</td>\n",
       "    </tr>\n",
       "  </tbody>\n",
       "</table>\n",
       "</div>"
      ],
      "text/plain": [
       "  market_segment  amount\n",
       "0      Online TA   51618\n",
       "1  Offline TA/TO   13889\n",
       "2         Direct   11804\n",
       "3         Groups    4942\n",
       "4      Corporate    4212\n",
       "5  Complementary     702\n",
       "6       Aviation     227\n",
       "7      Undefined       2"
      ]
     },
     "execution_count": 37,
     "metadata": {},
     "output_type": "execute_result"
    }
   ],
   "source": [
    "hotel_booking_data.groupby('market_segment').size().sort_values(ascending=False).reset_index(name='amount')"
   ]
  },
  {
   "cell_type": "markdown",
   "metadata": {},
   "source": [
    "### Q9"
   ]
  },
  {
   "cell_type": "markdown",
   "metadata": {},
   "source": [
    "According to the results from the agent analysis for hotel bookings, there is a specific agent for each hotel type that holds the largest share of bookings. After that, most bookings have been made without an agent."
   ]
  },
  {
   "cell_type": "code",
   "execution_count": 38,
   "metadata": {},
   "outputs": [
    {
     "name": "stderr",
     "output_type": "stream",
     "text": [
      "C:\\Users\\eftekhari\\AppData\\Local\\Temp\\ipykernel_7296\\407759644.py:1: FutureWarning: The default of observed=False is deprecated and will be changed to True in a future version of pandas. Pass observed=False to retain current behavior or observed=True to adopt the future default and silence this warning.\n",
      "  hotel_booking_data.groupby(['hotel', 'agent']).size()\\\n",
      "C:\\Users\\eftekhari\\AppData\\Local\\Temp\\ipykernel_7296\\407759644.py:3: FutureWarning: The default of observed=False is deprecated and will be changed to True in a future version of pandas. Pass observed=False to retain current behavior or observed=True to adopt the future default and silence this warning.\n",
      "  .sort_values(['hotel', 'count'], ascending=[True, False]).groupby('hotel').head(5)\\\n"
     ]
    },
    {
     "data": {
      "text/html": [
       "<div>\n",
       "<style scoped>\n",
       "    .dataframe tbody tr th:only-of-type {\n",
       "        vertical-align: middle;\n",
       "    }\n",
       "\n",
       "    .dataframe tbody tr th {\n",
       "        vertical-align: top;\n",
       "    }\n",
       "\n",
       "    .dataframe thead th {\n",
       "        text-align: right;\n",
       "    }\n",
       "</style>\n",
       "<table border=\"1\" class=\"dataframe\">\n",
       "  <thead>\n",
       "    <tr style=\"text-align: right;\">\n",
       "      <th></th>\n",
       "      <th>hotel</th>\n",
       "      <th>agent</th>\n",
       "      <th>count</th>\n",
       "    </tr>\n",
       "  </thead>\n",
       "  <tbody>\n",
       "    <tr>\n",
       "      <th>0</th>\n",
       "      <td>City Hotel</td>\n",
       "      <td>9</td>\n",
       "      <td>28753</td>\n",
       "    </tr>\n",
       "    <tr>\n",
       "      <th>1</th>\n",
       "      <td>City Hotel</td>\n",
       "      <td>-1</td>\n",
       "      <td>5587</td>\n",
       "    </tr>\n",
       "    <tr>\n",
       "      <th>2</th>\n",
       "      <td>City Hotel</td>\n",
       "      <td>14</td>\n",
       "      <td>3349</td>\n",
       "    </tr>\n",
       "    <tr>\n",
       "      <th>3</th>\n",
       "      <td>City Hotel</td>\n",
       "      <td>7</td>\n",
       "      <td>3300</td>\n",
       "    </tr>\n",
       "    <tr>\n",
       "      <th>4</th>\n",
       "      <td>City Hotel</td>\n",
       "      <td>28</td>\n",
       "      <td>1502</td>\n",
       "    </tr>\n",
       "    <tr>\n",
       "      <th>5</th>\n",
       "      <td>Resort Hotel</td>\n",
       "      <td>240</td>\n",
       "      <td>13020</td>\n",
       "    </tr>\n",
       "    <tr>\n",
       "      <th>6</th>\n",
       "      <td>Resort Hotel</td>\n",
       "      <td>-1</td>\n",
       "      <td>6606</td>\n",
       "    </tr>\n",
       "    <tr>\n",
       "      <th>7</th>\n",
       "      <td>Resort Hotel</td>\n",
       "      <td>250</td>\n",
       "      <td>2778</td>\n",
       "    </tr>\n",
       "    <tr>\n",
       "      <th>8</th>\n",
       "      <td>Resort Hotel</td>\n",
       "      <td>241</td>\n",
       "      <td>1644</td>\n",
       "    </tr>\n",
       "    <tr>\n",
       "      <th>9</th>\n",
       "      <td>Resort Hotel</td>\n",
       "      <td>40</td>\n",
       "      <td>954</td>\n",
       "    </tr>\n",
       "  </tbody>\n",
       "</table>\n",
       "</div>"
      ],
      "text/plain": [
       "          hotel  agent  count\n",
       "0    City Hotel      9  28753\n",
       "1    City Hotel     -1   5587\n",
       "2    City Hotel     14   3349\n",
       "3    City Hotel      7   3300\n",
       "4    City Hotel     28   1502\n",
       "5  Resort Hotel    240  13020\n",
       "6  Resort Hotel     -1   6606\n",
       "7  Resort Hotel    250   2778\n",
       "8  Resort Hotel    241   1644\n",
       "9  Resort Hotel     40    954"
      ]
     },
     "execution_count": 38,
     "metadata": {},
     "output_type": "execute_result"
    }
   ],
   "source": [
    "hotel_booking_data.groupby(['hotel', 'agent']).size()\\\n",
    "    .reset_index(name='count')\\\n",
    "        .sort_values(['hotel', 'count'], ascending=[True, False]).groupby('hotel').head(5)\\\n",
    "            .reset_index(drop=True)"
   ]
  }
 ],
 "metadata": {
  "kernelspec": {
   "display_name": "Python 3",
   "language": "python",
   "name": "python3"
  },
  "language_info": {
   "codemirror_mode": {
    "name": "ipython",
    "version": 3
   },
   "file_extension": ".py",
   "mimetype": "text/x-python",
   "name": "python",
   "nbconvert_exporter": "python",
   "pygments_lexer": "ipython3",
   "version": "3.10.2"
  }
 },
 "nbformat": 4,
 "nbformat_minor": 2
}
